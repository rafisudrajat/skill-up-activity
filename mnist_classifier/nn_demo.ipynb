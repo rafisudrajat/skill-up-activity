{
 "cells": [
  {
   "cell_type": "code",
   "execution_count": 1,
   "metadata": {},
   "outputs": [],
   "source": [
    "import mlx.core as mx\n",
    "import mlx.nn as nn\n",
    "import mlx.optimizers as optim\n",
    "import idx2numpy\n",
    "import numpy as np\n",
    "import matplotlib.pyplot as plt"
   ]
  },
  {
   "cell_type": "code",
   "execution_count": 3,
   "metadata": {},
   "outputs": [],
   "source": [
    "class MLP(nn.Module):\n",
    "    def __init__(\n",
    "        self, hidden_dim=30, hidden_num:int=5\n",
    "    ):\n",
    "        super().__init__()\n",
    "        self.hidden_dim = hidden_dim\n",
    "        self.hidden_num = hidden_num\n",
    "        self.conv1 = nn.Conv2d(1, 10, kernel_size=5)\n",
    "        self.conv2 = nn.Conv2d(10, 20, kernel_size=5)\n",
    "        self.fc1 = nn.Linear(320, hidden_dim)\n",
    "        self.fc_hidden = nn.Linear(hidden_dim, hidden_dim)\n",
    "        self.fc_out = nn.Linear(hidden_dim,10)\n",
    "        self.max_pool2d = nn.MaxPool2d(2)\n",
    "        self.dropout = nn.Dropout()\n",
    "    \n",
    "\n",
    "    def __call__(self, x):\n",
    "        x = self.max_pool2d(self.conv1(x))\n",
    "        x = self.max_pool2d(self.conv2(x))\n",
    "        x = x.reshape(-1,320)\n",
    "        x = nn.relu(self.fc1(x))\n",
    "        x = self.dropout(x)\n",
    "        for i in range(self.hidden_num):\n",
    "            x = nn.relu(self.fc_hidden(x))\n",
    "        x = nn.relu(self.fc_out(x))\n",
    "        return nn.log_softmax(x)\n",
    "        \n"
   ]
  },
  {
   "cell_type": "code",
   "execution_count": 4,
   "metadata": {},
   "outputs": [],
   "source": [
    "num_layers = 10\n",
    "hidden_dim = 128\n",
    "\n",
    "# Load the model\n",
    "model = MLP(hidden_dim=hidden_dim,hidden_num=num_layers)"
   ]
  },
  {
   "cell_type": "code",
   "execution_count": 5,
   "metadata": {},
   "outputs": [],
   "source": [
    "def load_mnist_dataset(train_data_path:str, \n",
    "                       train_label_path:str, \n",
    "                       test_data_path:str, \n",
    "                       test_label_path:str):\n",
    "    \n",
    "    train_images = idx2numpy.convert_from_file(train_data_path)\n",
    "    train_labels = idx2numpy.convert_from_file(train_label_path)\n",
    "    test_images = idx2numpy.convert_from_file(test_data_path)\n",
    "    test_labels = idx2numpy.convert_from_file(test_label_path)\n",
    "    return (train_images, train_labels, test_images, test_labels)\n",
    "\n"
   ]
  },
  {
   "cell_type": "code",
   "execution_count": 6,
   "metadata": {},
   "outputs": [],
   "source": [
    "train_images, train_labels, test_images, test_labels = map(\n",
    "                                                        np.array, \n",
    "                                                        load_mnist_dataset(\n",
    "                                                            \"data/train-images-idx3-ubyte\",\n",
    "                                                            \"data/train-labels-idx1-ubyte\",\n",
    "                                                            \"data/t10k-images-idx3-ubyte\",\n",
    "                                                            \"data/t10k-labels-idx1-ubyte\"\n",
    "                                                        ))\n",
    "train_images = np.expand_dims(train_images, axis=-1)\n",
    "test_images = np.expand_dims(test_images, axis=-1)\n",
    "train_images = mx.array(train_images,dtype=mx.float32)\n",
    "train_labels = mx.array(train_labels,dtype=mx.uint8)\n",
    "test_images = mx.array(test_images,dtype=mx.float32)\n",
    "test_labels = mx.array(test_labels,dtype=mx.uint8)\n"
   ]
  },
  {
   "cell_type": "code",
   "execution_count": 7,
   "metadata": {},
   "outputs": [
    {
     "name": "stdout",
     "output_type": "stream",
     "text": [
      "Train images shape: (60000, 28, 28, 1)\n",
      "Train labels shape: (60000,)\n",
      "Test images shape: (10000, 28, 28, 1)\n",
      "Test labels shape: (10000,)\n"
     ]
    }
   ],
   "source": [
    "print(\"Train images shape:\",train_images.shape)\n",
    "print(\"Train labels shape:\",train_labels.shape)\n",
    "print(\"Test images shape:\",test_images.shape)\n",
    "print(\"Test labels shape:\",test_labels.shape)"
   ]
  },
  {
   "cell_type": "code",
   "execution_count": 8,
   "metadata": {},
   "outputs": [
    {
     "data": {
      "image/png": "[encoded data removed]",
      "text/plain": [
       "<Figure size 640x480 with 1 Axes>"
      ]
     },
     "metadata": {},
     "output_type": "display_data"
    }
   ],
   "source": [
    "plt.imshow(train_images[120])\n",
    "plt.show()"
   ]
  },
  {
   "cell_type": "code",
   "execution_count": 9,
   "metadata": {},
   "outputs": [],
   "source": [
    "model_output = model(mx.array(train_images,dtype=mx.float32))\n"
   ]
  },
  {
   "cell_type": "code",
   "execution_count": 10,
   "metadata": {},
   "outputs": [
    {
     "data": {
      "text/plain": [
       "(60000, 10)"
      ]
     },
     "execution_count": 10,
     "metadata": {},
     "output_type": "execute_result"
    }
   ],
   "source": [
    "model_output.shape"
   ]
  },
  {
   "cell_type": "code",
   "execution_count": 11,
   "metadata": {},
   "outputs": [],
   "source": [
    "def eval_fn(model, X, y) -> mx.array:\n",
    "    return mx.mean(mx.argmax(model(X), axis=1) == y)"
   ]
  },
  {
   "cell_type": "code",
   "execution_count": 12,
   "metadata": {},
   "outputs": [],
   "source": [
    "def loss_fn(model, X, y) -> mx.array:\n",
    "    return mx.mean(nn.losses.cross_entropy(model(X), y))\n"
   ]
  },
  {
   "cell_type": "code",
   "execution_count": 13,
   "metadata": {},
   "outputs": [
    {
     "name": "stdout",
     "output_type": "stream",
     "text": [
      "(60000, 784)\n",
      "(10000, 784)\n"
     ]
    }
   ],
   "source": [
    "flattened_train_images = train_images.reshape((60000,28*28))\n",
    "print(flattened_train_images.shape)\n",
    "flattened_test_images = test_images.reshape((10000,28*28))\n",
    "print(flattened_test_images.shape)\n"
   ]
  },
  {
   "cell_type": "code",
   "execution_count": 14,
   "metadata": {},
   "outputs": [],
   "source": [
    "# Shuffle in minibatch\n",
    "def batch_iterate(batch_size, X, y):\n",
    "    perm = mx.array(np.random.permutation(y.size))\n",
    "    for s in range(0, y.size, batch_size):\n",
    "        ids = perm[s : s + batch_size]\n",
    "        yield X[ids], y[ids]"
   ]
  },
  {
   "cell_type": "code",
   "execution_count": 15,
   "metadata": {},
   "outputs": [],
   "source": [
    "num_layers = 10\n",
    "hidden_dim = 128\n",
    "batch_size = 128\n",
    "num_epochs = 25\n",
    "learning_rate = 0.05\n",
    "\n",
    "\n",
    "mx.eval(model.parameters())"
   ]
  },
  {
   "cell_type": "code",
   "execution_count": 16,
   "metadata": {},
   "outputs": [
    {
     "name": "stdout",
     "output_type": "stream",
     "text": [
      "MLP(\n",
      "  (conv1): Conv2d(1, 10, kernel_size=(5,), stride=(1, 1), padding=(0, 0), dilation=1, bias=True)\n",
      "  (conv2): Conv2d(10, 20, kernel_size=(5,), stride=(1, 1), padding=(0, 0), dilation=1, bias=True)\n",
      "  (fc1): Linear(input_dims=320, output_dims=128, bias=True)\n",
      "  (fc_hidden): Linear(input_dims=128, output_dims=128, bias=True)\n",
      "  (fc_out): Linear(input_dims=128, output_dims=10, bias=True)\n",
      "  (max_pool2d): MaxPool2d(kernel_size=(2, 2), stride=(2, 2), padding=(0, 0))\n",
      "  (dropout): Dropout(p=0.5)\n",
      ")\n"
     ]
    }
   ],
   "source": [
    "print(model)"
   ]
  },
  {
   "cell_type": "code",
   "execution_count": 17,
   "metadata": {},
   "outputs": [],
   "source": [
    "# Get a function which gives the loss and gradient of the\n",
    "# loss with respect to the model's trainable parameters\n",
    "loss_and_grad_fn = nn.value_and_grad(model, loss_fn)\n",
    "\n",
    "# Instantiate the optimizer\n",
    "optimizer = optim.SGD(learning_rate=learning_rate)"
   ]
  },
  {
   "cell_type": "code",
   "execution_count": 18,
   "metadata": {},
   "outputs": [
    {
     "name": "stdout",
     "output_type": "stream",
     "text": [
      "Epoch 0: Test accuracy 0.098\n",
      "Epoch 1: Test accuracy 0.288\n",
      "Epoch 2: Test accuracy 0.464\n",
      "Epoch 3: Test accuracy 0.357\n",
      "Epoch 4: Test accuracy 0.557\n",
      "Epoch 5: Test accuracy 0.928\n",
      "Epoch 6: Test accuracy 0.940\n",
      "Epoch 7: Test accuracy 0.954\n",
      "Epoch 8: Test accuracy 0.959\n",
      "Epoch 9: Test accuracy 0.965\n",
      "Epoch 10: Test accuracy 0.963\n",
      "Epoch 11: Test accuracy 0.967\n",
      "Epoch 12: Test accuracy 0.972\n",
      "Epoch 13: Test accuracy 0.972\n",
      "Epoch 14: Test accuracy 0.174\n",
      "Epoch 15: Test accuracy 0.859\n",
      "Epoch 16: Test accuracy 0.884\n",
      "Epoch 17: Test accuracy 0.959\n",
      "Epoch 18: Test accuracy 0.963\n",
      "Epoch 19: Test accuracy 0.959\n",
      "Epoch 20: Test accuracy 0.967\n",
      "Epoch 21: Test accuracy 0.971\n",
      "Epoch 22: Test accuracy 0.973\n",
      "Epoch 23: Test accuracy 0.972\n",
      "Epoch 24: Test accuracy 0.964\n"
     ]
    }
   ],
   "source": [
    "train_accuracy = []\n",
    "for e in range(num_epochs):\n",
    "    for X, y in batch_iterate(batch_size, train_images, train_labels):\n",
    "        loss, grads = loss_and_grad_fn(model, X, y)\n",
    "\n",
    "        # Update the optimizer state and model parameters\n",
    "        # in a single call\n",
    "        optimizer.update(model, grads)\n",
    "\n",
    "        # Force a graph evaluation\n",
    "        mx.eval(model.parameters(), optimizer.state)\n",
    "\n",
    "    accuracy = eval_fn(model, test_images, test_labels)\n",
    "    train_accuracy.append(accuracy.item())\n",
    "    print(f\"Epoch {e}: Test accuracy {accuracy.item():.3f}\")"
   ]
  },
  {
   "cell_type": "code",
   "execution_count": 19,
   "metadata": {},
   "outputs": [
    {
     "data": {
      "text/plain": [
       "(1, 28, 28, 1)"
      ]
     },
     "execution_count": 19,
     "metadata": {},
     "output_type": "execute_result"
    }
   ],
   "source": [
    "p=mx.expand_dims(test_images[1000],axis=0)\n",
    "p.shape"
   ]
  },
  {
   "cell_type": "code",
   "execution_count": 20,
   "metadata": {},
   "outputs": [
    {
     "data": {
      "text/plain": [
       "(1, 10)"
      ]
     },
     "execution_count": 20,
     "metadata": {},
     "output_type": "execute_result"
    }
   ],
   "source": [
    "model(p).shape"
   ]
  },
  {
   "cell_type": "code",
   "execution_count": 21,
   "metadata": {},
   "outputs": [
    {
     "data": {
      "text/plain": [
       "array([9], dtype=uint32)"
      ]
     },
     "execution_count": 21,
     "metadata": {},
     "output_type": "execute_result"
    }
   ],
   "source": [
    "mx.argmax(model(p),axis=1)"
   ]
  },
  {
   "cell_type": "code",
   "execution_count": 22,
   "metadata": {},
   "outputs": [
    {
     "data": {
      "image/png": "[encoded data removed]",
      "text/plain": [
       "<Figure size 640x480 with 1 Axes>"
      ]
     },
     "metadata": {},
     "output_type": "display_data"
    }
   ],
   "source": [
    "plt.imshow(test_images[1000])\n",
    "plt.show()"
   ]
  },
  {
   "cell_type": "code",
   "execution_count": 23,
   "metadata": {},
   "outputs": [
    {
     "name": "stdout",
     "output_type": "stream",
     "text": [
      "0.1\n"
     ]
    }
   ],
   "source": [
    "print(1e-1)"
   ]
  },
  {
   "cell_type": "code",
   "execution_count": null,
   "metadata": {},
   "outputs": [],
   "source": []
  },
  {
   "cell_type": "code",
   "execution_count": null,
   "metadata": {},
   "outputs": [],
   "source": []
  }
 ],
 "metadata": {
  "kernelspec": {
   "display_name": "ML-Env",
   "language": "python",
   "name": "python3"
  },
  "language_info": {
   "codemirror_mode": {
    "name": "ipython",
    "version": 3
   },
   "file_extension": ".py",
   "mimetype": "text/x-python",
   "name": "python",
   "nbconvert_exporter": "python",
   "pygments_lexer": "ipython3",
   "version": "3.12.4"
  }
 },
 "nbformat": 4,
 "nbformat_minor": 2
}
