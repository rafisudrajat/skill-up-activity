{
 "cells": [
  {
   "cell_type": "code",
   "execution_count": 1,
   "metadata": {},
   "outputs": [],
   "source": [
    "import torch.nn as nn\n",
    "import torch\n",
    "from utils import *\n",
    "from model import AutoRecItemBased\n",
    "from torch.optim import lr_scheduler\n",
    "from train import train_model_item_based"
   ]
  },
  {
   "cell_type": "markdown",
   "metadata": {},
   "source": [
    "# Exploratory Data Analysis"
   ]
  },
  {
   "cell_type": "code",
   "execution_count": 2,
   "metadata": {},
   "outputs": [
    {
     "name": "stdout",
     "output_type": "stream",
     "text": [
      "number of users: 943, number of items: 1682\n",
      "matrix sparsity: 0.936953\n",
      "   user_id  item_id  rating  timestamp\n",
      "0      196      242       3  881250949\n",
      "1      186      302       3  891717742\n",
      "2       22      377       1  878887116\n",
      "3      244       51       2  880606923\n",
      "4      166      346       1  886397596\n",
      "5      298      474       4  884182806\n",
      "6      115      265       2  881171488\n",
      "7      253      465       5  891628467\n",
      "8      305      451       3  886324817\n",
      "9        6       86       3  883603013\n"
     ]
    }
   ],
   "source": [
    "DATA_DIR = \"data/ml-100k\"\n",
    "data, num_users, num_items = read_data_ml100k(DATA_DIR)\n",
    "sparsity:int = 1 - len(data) / (num_users * num_items)\n",
    "print(f'number of users: {num_users}, number of items: {num_items}')\n",
    "print(f'matrix sparsity: {sparsity:f}')\n",
    "print(data.head(10))\n"
   ]
  },
  {
   "cell_type": "code",
   "execution_count": 3,
   "metadata": {},
   "outputs": [
    {
     "name": "stdout",
     "output_type": "stream",
     "text": [
      "Lenght of train data: 99057\n",
      "Length of test data 943\n",
      "user interaction matrix is a 2D matrix where rows represent items and columns represent users and the value of each element is the ranking.\n",
      "\n",
      "user-item interaction matrix training set shape: (1682, 943)\n",
      "user-item interaction matrix training set:\n",
      " [[5. 4. 0. ... 5. 0. 0.]\n",
      " [3. 0. 0. ... 0. 0. 5.]\n",
      " [4. 0. 0. ... 0. 0. 0.]\n",
      " ...\n",
      " [0. 0. 0. ... 0. 0. 0.]\n",
      " [0. 0. 0. ... 0. 0. 0.]\n",
      " [0. 0. 0. ... 0. 0. 0.]]\n",
      "user-item interaction matrix test set shape: (1682, 943)\n",
      "user-item interaction matrix test set:\n",
      " [[0. 0. 0. ... 0. 0. 0.]\n",
      " [0. 0. 0. ... 0. 0. 0.]\n",
      " [0. 0. 0. ... 0. 0. 0.]\n",
      " ...\n",
      " [0. 0. 0. ... 0. 0. 0.]\n",
      " [0. 0. 0. ... 0. 0. 0.]\n",
      " [0. 0. 0. ... 0. 0. 0.]]\n"
     ]
    }
   ],
   "source": [
    "# Split dataset\n",
    "train_data, test_data = split_data_ml100k(data, num_users, split_mode='seq-aware')\n",
    "print(\"Lenght of train data:\",len(train_data))\n",
    "print(\"Length of test data\",len(test_data))\n",
    "\n",
    "# Convert into user-item interaction matrix\n",
    "users_train, items_train, _, train_inter_mat = load_data_ml100k(train_data, num_users,num_items)\n",
    "print(\"user interaction matrix is a 2D matrix where rows represent items and columns represent users and the value of each element is the ranking.\")\n",
    "print()\n",
    "print(\"user-item interaction matrix training set shape:\",train_inter_mat.shape)\n",
    "print(\"user-item interaction matrix training set:\\n\",train_inter_mat)\n",
    "\n",
    "users_test, items_test, _, test_inter_mat = load_data_ml100k(test_data, num_users,num_items)\n",
    "print(\"user-item interaction matrix test set shape:\",test_inter_mat.shape)\n",
    "print(\"user-item interaction matrix test set:\\n\",test_inter_mat)\n",
    "# Convert to PyTorch tensors\n",
    "train_inter_mat_tensor = torch.tensor(train_inter_mat, dtype=torch.float32)\n",
    "test_inter_mat_tensor = torch.tensor(test_inter_mat, dtype=torch.float32)\n",
    "\n",
    "# Create TensorDataset\n",
    "train_inter_dataset = TensorDataset(train_inter_mat_tensor)\n",
    "test_inter_dataset = TensorDataset(test_inter_mat_tensor)\n",
    "\n",
    "# Create DataLoader\n",
    "train_iter = DataLoader(train_inter_dataset, shuffle=True, batch_size=512)\n",
    "test_iter = DataLoader(test_inter_dataset, batch_size=512)"
   ]
  },
  {
   "cell_type": "markdown",
   "metadata": {},
   "source": [
    "# Create model and train it"
   ]
  },
  {
   "cell_type": "code",
   "execution_count": 5,
   "metadata": {},
   "outputs": [
    {
     "name": "stdout",
     "output_type": "stream",
     "text": [
      "Training complete in 0m 13s\n",
      "Best loss: 2.052986\n"
     ]
    }
   ],
   "source": [
    "if not torch.backends.mps.is_available():\n",
    "    if not torch.backends.mps.is_built():\n",
    "        print(\"MPS not available because the current PyTorch install was not \"\n",
    "              \"built with MPS enabled.\")\n",
    "    else:\n",
    "        print(\"MPS not available because the current MacOS version is not 12.3+ \"\n",
    "              \"and/or you do not have an MPS-enabled device on this machine.\")\n",
    "else:\n",
    "    mps_device = torch.device(\"mps\")\n",
    "\n",
    "    dataloaders = {'train':train_iter, 'val':test_iter}\n",
    "\n",
    "    dataset_sizes = {'train':len(train_iter.dataset),'val':len(test_iter.dataset)}\n",
    "    \n",
    "    model = AutoRecItemBased(100,num_users,dropout=0.005).to(mps_device)\n",
    "    \n",
    "    learning_rate = 5e-2\n",
    "    optimizer = torch.optim.Adam(model.parameters(),lr=learning_rate)\n",
    "    # Decay LR by a factor of 1e-5 every 10 epochs\n",
    "    exp_lr_scheduler = lr_scheduler.StepLR(optimizer, step_size=50, gamma=1e-5)\n",
    "    model = train_model_item_based(model,dataloaders,dataset_sizes,mps_device,optimizer,exp_lr_scheduler,num_epochs=500)\n"
   ]
  },
  {
   "cell_type": "markdown",
   "metadata": {},
   "source": [
    "# Inference testing and analysis"
   ]
  },
  {
   "cell_type": "code",
   "execution_count": 8,
   "metadata": {},
   "outputs": [
    {
     "name": "stdout",
     "output_type": "stream",
     "text": [
      "user interaction matrix is a 2D matrix where rows represent items and columns represent users and the value of each element is the ranking.\n",
      "\n",
      "user-item interaction matrix training set shape: (1682, 943)\n",
      "user-item interaction matrix training set:\n",
      " [[5. 4. 0. ... 5. 0. 0.]\n",
      " [3. 0. 0. ... 0. 0. 5.]\n",
      " [4. 0. 0. ... 0. 0. 0.]\n",
      " ...\n",
      " [0. 0. 0. ... 0. 0. 0.]\n",
      " [0. 0. 0. ... 0. 0. 0.]\n",
      " [0. 0. 0. ... 0. 0. 0.]]\n",
      "\n",
      "First row from all interaction matrix:\n",
      " [3. 3. 0. 0. 0. 4. 0. 4. 4. 0. 0. 0. 0. 0. 0. 0. 4. 0. 0. 4. 4. 0. 0. 3.\n",
      " 4. 0. 0. 4. 0. 5. 4. 0. 0. 5. 0. 0. 3. 4. 0. 0.]\n",
      "First row from train interaction matrix:\n",
      " [3. 3. 0. 0. 0. 4. 0. 4. 4. 0. 0. 0. 0. 0. 0. 0. 4. 0. 0. 4. 4. 0. 0. 3.\n",
      " 4. 0. 0. 4. 0. 5. 4. 0. 0. 0. 0. 0. 3. 4. 0. 0.]\n",
      "First row from test interaction matrix:\n",
      " [0. 0. 0. 0. 0. 0. 0. 0. 0. 0. 0. 0. 0. 0. 0. 0. 0. 0. 0. 0. 0. 0. 0. 0.\n",
      " 0. 0. 0. 0. 0. 0. 0. 0. 0. 5. 0. 0. 0. 0. 0. 0.]\n"
     ]
    }
   ],
   "source": [
    "users, items, _, all_inter_mat = load_data_ml100k(data, num_users,num_items)\n",
    "print(\"user interaction matrix is a 2D matrix where rows represent items and columns represent users and the value of each element is the ranking.\")\n",
    "print()\n",
    "print(\"user-item interaction matrix training set shape:\",all_inter_mat.shape)\n",
    "print(\"user-item interaction matrix training set:\\n\",all_inter_mat)\n",
    "print()\n",
    "print(\"First row from all interaction matrix:\\n\",all_inter_mat[0][100:140])\n",
    "print(\"First row from train interaction matrix:\\n\",train_inter_mat[0][100:140])\n",
    "print(\"First row from test interaction matrix:\\n\",test_inter_mat[0][100:140])\n",
    "# Convert to PyTorch tensors\n",
    "all_inter_mat_tensor = torch.tensor(all_inter_mat, dtype=torch.float32,device=mps_device)\n",
    "actual_rating = all_inter_mat_tensor.flatten().cpu().numpy()"
   ]
  },
  {
   "cell_type": "code",
   "execution_count": 9,
   "metadata": {},
   "outputs": [],
   "source": [
    "model.eval()\n",
    "predicted_rating = np.array([])\n",
    "for user_item_inter_mat in all_inter_mat_tensor:\n",
    "    with torch.no_grad():\n",
    "        mask = torch.sign(user_item_inter_mat)\n",
    "        output = model(user_item_inter_mat)\n",
    "        masked_output = mask * output\n",
    "        predicted_rating = np.append(predicted_rating,masked_output.cpu().numpy())"
   ]
  },
  {
   "cell_type": "code",
   "execution_count": 10,
   "metadata": {},
   "outputs": [
    {
     "name": "stdout",
     "output_type": "stream",
     "text": [
      "Actual rating:\n",
      " [5. 4. 0. 0. 4. 4. 0. 0. 0. 4. 0. 0. 3. 0. 1. 5. 4. 5. 0. 3. 5. 0. 5. 0.\n",
      " 5. 3. 0. 0. 0. 0. 0. 0. 0. 0. 0. 0. 0. 5. 0. 0. 4. 5. 5. 4. 5. 0. 0. 0.\n",
      " 2. 0.]\n",
      "Predicted rating:\n",
      " [4. 4. 0. 0. 4. 3. 0. 0. 0. 4. 0. 0. 3. 0. 3. 4. 0. 4. 0. 3. 0. 0. 4. 0.\n",
      " 4. 3. 0. 0. 0. 0. 0. 0. 0. 0. 0. 0. 0. 4. 0. 0. 4. 4. 5. 4. 4. 0. 0. 0.\n",
      " 2. 0.]\n"
     ]
    }
   ],
   "source": [
    "predicted_rating_rounded = np.round(predicted_rating)\n",
    "print(\"Actual rating:\\n\", actual_rating[:50])\n",
    "print(\"Predicted rating:\\n\", predicted_rating_rounded[:50])"
   ]
  },
  {
   "cell_type": "code",
   "execution_count": 11,
   "metadata": {},
   "outputs": [
    {
     "name": "stdout",
     "output_type": "stream",
     "text": [
      "Number of correct rating prediction: 33102\n",
      "Percentage of correct prediction: 33.102\n"
     ]
    }
   ],
   "source": [
    "number_of_correct_prediction = np.array([1 if pred_rat==actual_rat and actual_rat!=0 else 0 for  pred_rat,actual_rat in zip(predicted_rating_rounded,actual_rating)]).sum()\n",
    "print(\"Number of correct rating prediction:\", number_of_correct_prediction)\n",
    "print(\"Percentage of correct prediction:\", number_of_correct_prediction/len(data) *100)"
   ]
  },
  {
   "cell_type": "markdown",
   "metadata": {},
   "source": [
    "# Appendix"
   ]
  },
  {
   "cell_type": "markdown",
   "metadata": {},
   "source": [
    "## Illustration how to evaluate prediction in inference analysis"
   ]
  },
  {
   "cell_type": "code",
   "execution_count": null,
   "metadata": {},
   "outputs": [],
   "source": [
    "# Test data\n",
    "test_data = np.array([\n",
    "    [5, 0, 3],\n",
    "    [0, 4, 0],\n",
    "    [2, 0, 0]\n",
    "])\n",
    "test_data = torch.tensor(test_data, dtype=torch.float32)\n",
    "print(\"Test data:\")\n",
    "print(test_data)\n",
    "\n",
    "# Model's predictions\n",
    "predictions = np.array([\n",
    "    [4.8, 2.1, 3.2],\n",
    "    [1.5, 3.9, 2.0],\n",
    "    [2.1, 1.0, 0.5]\n",
    "])\n",
    "predictions = torch.tensor(predictions, dtype=torch.float32)\n",
    "print(\"Prediction:\")\n",
    "print(predictions)\n",
    "\n",
    "# Mask using torch.sign\n",
    "mask = torch.sign(test_data)\n",
    "print(\"mask\")\n",
    "print(mask)\n",
    "\n",
    "# Masked predictions\n",
    "masked_predictions = predictions * mask\n",
    "print(\"Masked prediction\")\n",
    "print(masked_predictions)\n",
    "\n",
    "# Calculate RMSE only for observed entries\n",
    "mse_loss = nn.MSELoss(reduction='sum')\n",
    "squared_diff = mse_loss(test_data * mask, masked_predictions)\n",
    "rmse = torch.sqrt(squared_diff / torch.sum(mask))\n",
    "print(f'RMSE: {rmse:.4f}')\n",
    "\n",
    "\n"
   ]
  },
  {
   "cell_type": "code",
   "execution_count": null,
   "metadata": {},
   "outputs": [],
   "source": []
  }
 ],
 "metadata": {
  "kernelspec": {
   "display_name": "ML-Env",
   "language": "python",
   "name": "python3"
  },
  "language_info": {
   "codemirror_mode": {
    "name": "ipython",
    "version": 3
   },
   "file_extension": ".py",
   "mimetype": "text/x-python",
   "name": "python",
   "nbconvert_exporter": "python",
   "pygments_lexer": "ipython3",
   "version": "3.12.4"
  }
 },
 "nbformat": 4,
 "nbformat_minor": 2
}
